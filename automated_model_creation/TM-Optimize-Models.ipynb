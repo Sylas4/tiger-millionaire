{
 "cells": [
  {
   "cell_type": "code",
   "execution_count": 1,
   "metadata": {},
   "outputs": [],
   "source": [
    "import pandas as pd\n",
    "import numpy as np\n",
    "from functions import *\n",
    "import random\n",
    "import csv\n",
    "from sklearn.linear_model import LogisticRegression\n"
   ]
  },
  {
   "cell_type": "code",
   "execution_count": 2,
   "metadata": {},
   "outputs": [
    {
     "name": "stdout",
     "output_type": "stream",
     "text": [
      "5\n"
     ]
    }
   ],
   "source": [
    "#Load models\n",
    "#REMINDER: We are going to need to use 'eval' to get the models usable\n",
    "with open('models.csv', newline='') as f:\n",
    "    reader = csv.reader(f)\n",
    "    models = list(reader)\n",
    "    \n",
    "print(len(models))"
   ]
  },
  {
   "cell_type": "code",
   "execution_count": 3,
   "metadata": {},
   "outputs": [
    {
     "data": {
      "text/plain": [
       "[['model_1', 'model_2', 'model_3', 'model_4', 'model_5', 'model_test'],\n",
       " [\"LogisticRegression(C=1.0, class_weight=None, dual=False, fit_intercept=True,\\n                   intercept_scaling=1, l1_ratio=None, max_iter=50000,\\n                   multi_class='auto', n_jobs=None, penalty='l2',\\n                   random_state=75, solver='lbfgs', tol=5.993308915320019,\\n                   verbose=0, warm_start=False)\",\n",
       "  \"DecisionTreeClassifier(ccp_alpha=0.0, class_weight=None, criterion='gini',\\n                       max_depth=None, max_features=None, max_leaf_nodes=None,\\n                       min_impurity_decrease=0.0, min_impurity_split=None,\\n                       min_samples_leaf=1, min_samples_split=2,\\n                       min_weight_fraction_leaf=0.0, presort='deprecated',\\n                       random_state=75, splitter='best')\",\n",
       "  \"RandomForestClassifier(bootstrap=True, ccp_alpha=0.0, class_weight=None,\\n                       criterion='gini', max_depth=None, max_features='auto',\\n                       max_leaf_nodes=None, max_samples=None,\\n                       min_impurity_decrease=0.0, min_impurity_split=None,\\n                       min_samples_leaf=1, min_samples_split=2,\\n                       min_weight_fraction_leaf=0.0, n_estimators=98, n_jobs=-1,\\n                       oob_score=False, random_state=75, verbose=0,\\n                       warm_start=False)\",\n",
       "  \"GradientBoostingClassifier(ccp_alpha=0.0, criterion='friedman_mse', init=None,\\n                           learning_rate=0.1, loss='deviance', max_depth=3,\\n                           max_features=None, max_leaf_nodes=None,\\n                           min_impurity_decrease=0.0, min_impurity_split=None,\\n                           min_samples_leaf=1, min_samples_split=2,\\n                           min_weight_fraction_leaf=0.0, n_estimators=99,\\n                           n_iter_no_change=None, presort='deprecated',\\n                           random_state=75, subsample=1.0, tol=0.0001,\\n                           validation_fraction=0.1, verbose=0,\\n                           warm_start=False)\",\n",
       "  'GaussianNB(priors=None, var_smoothing=1e-09)',\n",
       "  \"LogisticRegression(C=1.0, class_weight=None, dual=False, fit_intercept=True,\\n                   intercept_scaling=1, l1_ratio=None, max_iter=50000,\\n                   multi_class='auto', n_jobs=None, penalty='l2',\\n                   random_state=75, solver='lbfgs', tol=5.993308915320019,\\n                   verbose=0, warm_start=False)\"],\n",
       " [\"['B_win_by_Decision_Majority', 'B_win_by_TKO_Doctor_Stoppage', 'R_win_by_Decision_Majority', 'R_odds', 'R_current_lose_streak', 'R_Reach_cms', 'B_draw', 'total_round_dif', 'R_ev', 'B_ev']\",\n",
       "  \"['B_fighter', 'B_avg_TD_pct']\",\n",
       "  \"['B_current_lose_streak', 'B_total_title_bouts', 'B_fighter']\",\n",
       "  \"['B_total_rounds_fought', 'location', 'R_odds']\",\n",
       "  \"['avg_td_dif', 'R_win_by_Decision_Split', 'age_dif', 'B_current_win_streak', 'R_odds']\",\n",
       "  \"['total_round_dif', 'R_ev', 'B_ev']\"],\n",
       " ['0', '25', '2', '0', '0', '0'],\n",
       " ['1288', '-181', '177', '2436', '914', '1288']]"
      ]
     },
     "execution_count": 3,
     "metadata": {},
     "output_type": "execute_result"
    }
   ],
   "source": [
    "models"
   ]
  },
  {
   "cell_type": "code",
   "execution_count": 4,
   "metadata": {},
   "outputs": [],
   "source": [
    "df = pd.read_csv(\"../data/ufc-master.csv\")"
   ]
  },
  {
   "cell_type": "code",
   "execution_count": 5,
   "metadata": {},
   "outputs": [
    {
     "name": "stderr",
     "output_type": "stream",
     "text": [
      "D:\\Anaconda3\\lib\\site-packages\\ipykernel_launcher.py:5: SettingWithCopyWarning: \n",
      "A value is trying to be set on a copy of a slice from a DataFrame\n",
      "\n",
      "See the caveats in the documentation: https://pandas.pydata.org/pandas-docs/stable/user_guide/indexing.html#returning-a-view-versus-a-copy\n",
      "  \"\"\"\n",
      "D:\\Anaconda3\\lib\\site-packages\\ipykernel_launcher.py:7: SettingWithCopyWarning: \n",
      "A value is trying to be set on a copy of a slice from a DataFrame\n",
      "\n",
      "See the caveats in the documentation: https://pandas.pydata.org/pandas-docs/stable/user_guide/indexing.html#returning-a-view-versus-a-copy\n",
      "  import sys\n"
     ]
    }
   ],
   "source": [
    "#Let's put all the labels in a dataframe\n",
    "df['label'] = ''\n",
    "#If the winner is not Red or Blue we can remove it.\n",
    "mask = df['Winner'] == 'Red'\n",
    "df['label'][mask] = 0\n",
    "mask = df['Winner'] == 'Blue'\n",
    "df['label'][mask] = 1\n",
    "\n",
    "#df[\"Winner\"] = df[\"Winner\"].astype('category')\n",
    "df = df[(df['Winner'] == 'Blue') | (df['Winner'] == 'Red')]\n",
    "\n",
    "\n",
    "#Make sure lable is numeric\n",
    "df['label'] = pd.to_numeric(df['label'], errors='coerce')"
   ]
  },
  {
   "cell_type": "code",
   "execution_count": 6,
   "metadata": {},
   "outputs": [],
   "source": [
    "#Let's fix the date\n",
    "df['date'] = pd.to_datetime(df['date'])"
   ]
  },
  {
   "cell_type": "code",
   "execution_count": 7,
   "metadata": {},
   "outputs": [],
   "source": [
    "#Create a label df:\n",
    "label_df = df['label']\n",
    "\n",
    "#Let's create an odds df too:\n",
    "odds_df = df[['R_odds', 'B_odds']]"
   ]
  },
  {
   "cell_type": "code",
   "execution_count": 8,
   "metadata": {},
   "outputs": [
    {
     "name": "stdout",
     "output_type": "stream",
     "text": [
      "200\n",
      "200\n",
      "200\n",
      "4023\n",
      "4023\n",
      "4023\n"
     ]
    }
   ],
   "source": [
    "#Split the test set.  We are always(?) going to use the last 200 matches as the test set, so we don't want those around\n",
    "#as we pick models\n",
    "\n",
    "df_train = df[200:]\n",
    "odds_train = odds_df[200:]\n",
    "label_train = label_df[200:]\n",
    "\n",
    "df_test = df[:200]\n",
    "odds_test = odds_df[:200]\n",
    "label_test = label_df[:200]\n",
    "\n",
    "print(len(df_test))\n",
    "print(len(odds_test))\n",
    "print(len(label_test))\n",
    "\n",
    "print(len(df_train))\n",
    "print(len(odds_train))\n",
    "print(len(label_train))"
   ]
  },
  {
   "cell_type": "code",
   "execution_count": null,
   "metadata": {},
   "outputs": [],
   "source": []
  },
  {
   "cell_type": "code",
   "execution_count": 9,
   "metadata": {},
   "outputs": [],
   "source": [
    "#1. Set features\n",
    "#2. Set Hyperparameters\n",
    "#3. Set EV\n",
    "#4. Remove Features"
   ]
  },
  {
   "cell_type": "code",
   "execution_count": 10,
   "metadata": {},
   "outputs": [],
   "source": [
    "test_model_name = models[0][0]\n",
    "test_model = eval(models[1][0])\n",
    "test_model_features = eval(models[2][0])\n",
    "test_model_ev = eval(models[3][0])"
   ]
  },
  {
   "cell_type": "code",
   "execution_count": 11,
   "metadata": {},
   "outputs": [],
   "source": [
    "old_test_model = test_model\n",
    "old_test_model_features = test_model_features\n",
    "old_test_model_ev = test_model_ev"
   ]
  },
  {
   "cell_type": "code",
   "execution_count": 12,
   "metadata": {},
   "outputs": [],
   "source": [
    "#1. set features\n",
    "my_pos_features = ['R_fighter', 'B_fighter', 'R_odds', 'B_odds', 'R_ev', 'B_ev',\n",
    "       'location', 'country', 'title_bout', 'weight_class', 'gender',\n",
    "       'no_of_rounds', 'B_current_lose_streak', 'B_current_win_streak',\n",
    "       'B_draw', 'B_avg_SIG_STR_landed', 'B_avg_SIG_STR_pct', 'B_avg_SUB_ATT',\n",
    "       'B_avg_TD_landed', 'B_avg_TD_pct', 'B_longest_win_streak', 'B_losses',\n",
    "       'B_total_rounds_fought', 'B_total_title_bouts',\n",
    "       'B_win_by_Decision_Majority', 'B_win_by_Decision_Split',\n",
    "       'B_win_by_Decision_Unanimous', 'B_win_by_KO/TKO', 'B_win_by_Submission',\n",
    "       'B_win_by_TKO_Doctor_Stoppage', 'B_wins', 'B_Stance', 'B_Height_cms',\n",
    "       'B_Reach_cms', 'B_Weight_lbs', 'R_current_lose_streak',\n",
    "       'R_current_win_streak', 'R_draw', 'R_avg_SIG_STR_landed',\n",
    "       'R_avg_SIG_STR_pct', 'R_avg_SUB_ATT', 'R_avg_TD_landed', 'R_avg_TD_pct',\n",
    "       'R_longest_win_streak', 'R_losses', 'R_total_rounds_fought',\n",
    "       'R_total_title_bouts', 'R_win_by_Decision_Majority',\n",
    "       'R_win_by_Decision_Split', 'R_win_by_Decision_Unanimous',\n",
    "       'R_win_by_KO/TKO', 'R_win_by_Submission',\n",
    "       'R_win_by_TKO_Doctor_Stoppage', 'R_wins', 'R_Stance', 'R_Height_cms',\n",
    "       'R_Reach_cms', 'R_Weight_lbs', 'R_age', 'B_age', 'lose_streak_dif',\n",
    "       'win_streak_dif', 'longest_win_streak_dif', 'win_dif', 'loss_dif',\n",
    "       'total_round_dif', 'total_title_bout_dif', 'ko_dif', 'sub_dif',\n",
    "       'height_dif', 'reach_dif', 'age_dif', 'sig_str_dif', 'avg_sub_att_dif',\n",
    "       'avg_td_dif', 'empty_arena']"
   ]
  },
  {
   "cell_type": "code",
   "execution_count": 13,
   "metadata": {},
   "outputs": [
    {
     "data": {
      "text/plain": [
       "['B_win_by_Decision_Majority',\n",
       " 'B_win_by_TKO_Doctor_Stoppage',\n",
       " 'R_win_by_Decision_Majority',\n",
       " 'R_odds',\n",
       " 'R_current_lose_streak',\n",
       " 'R_Reach_cms',\n",
       " 'B_draw',\n",
       " 'total_round_dif',\n",
       " 'R_ev',\n",
       " 'B_ev']"
      ]
     },
     "execution_count": 13,
     "metadata": {},
     "output_type": "execute_result"
    }
   ],
   "source": [
    "test_model_features"
   ]
  },
  {
   "cell_type": "code",
   "execution_count": 14,
   "metadata": {},
   "outputs": [
    {
     "name": "stdout",
     "output_type": "stream",
     "text": [
      "Current best score is: 24.45639412549921\n",
      "NO IMPROVEMENT\n",
      "FINAL BEST SCORE: 24.45639412549921\n",
      "\n",
      "\n",
      "Starting New Run for LogisticRegression\n",
      "\n",
      "\n",
      "Previous Best Score: 24.45639412549921\n",
      "solver: newton-cg penalty: l2 tol: 5.993308915320019 Score: 24.45639412549921\n",
      "solver: newton-cg penalty: l2 tol: 7.191970698384022 Score: 24.45639412549921\n",
      "solver: newton-cg penalty: l2 tol: 4.794647132256015 Score: 24.45639412549921\n",
      "solver: newton-cg penalty: l2 tol: 7.095412513261494 Score: 24.45639412549921\n",
      "solver: newton-cg penalty: none tol: 5.993308915320019 Score: 24.45639412549921\n",
      "solver: newton-cg penalty: none tol: 7.191970698384022 Score: 24.45639412549921\n",
      "solver: newton-cg penalty: none tol: 4.794647132256015 Score: 24.45639412549921\n",
      "solver: newton-cg penalty: none tol: 7.095412513261494 Score: 24.45639412549921\n",
      "solver: lbfgs penalty: l2 tol: 5.993308915320019 Score: 24.45639412549921\n",
      "solver: lbfgs penalty: l2 tol: 7.191970698384022 Score: 24.45639412549921\n",
      "solver: lbfgs penalty: l2 tol: 4.794647132256015 Score: 24.45639412549921\n",
      "solver: lbfgs penalty: l2 tol: 7.095412513261494 Score: 24.45639412549921\n",
      "solver: lbfgs penalty: none tol: 5.993308915320019 Score: 24.45639412549921\n",
      "solver: lbfgs penalty: none tol: 7.191970698384022 Score: 24.45639412549921\n",
      "solver: lbfgs penalty: none tol: 4.794647132256015 Score: 24.45639412549921\n",
      "solver: lbfgs penalty: none tol: 7.095412513261494 Score: 24.45639412549921\n",
      "solver: sag penalty: l2 tol: 5.993308915320019 Score: 24.45639412549921\n",
      "solver: sag penalty: l2 tol: 7.191970698384022 Score: 24.45639412549921\n",
      "solver: sag penalty: l2 tol: 4.794647132256015 Score: 24.45639412549921\n",
      "solver: sag penalty: l2 tol: 7.095412513261494 Score: 24.45639412549921\n",
      "solver: sag penalty: none tol: 5.993308915320019 Score: 24.45639412549921\n",
      "solver: sag penalty: none tol: 7.191970698384022 Score: 24.45639412549921\n",
      "solver: sag penalty: none tol: 4.794647132256015 Score: 24.45639412549921\n",
      "solver: sag penalty: none tol: 7.095412513261494 Score: 24.45639412549921\n",
      "solver: saga penalty: l1 tol: 5.993308915320019 Score: 24.45639412549921\n",
      "solver: saga penalty: l1 tol: 7.191970698384022 Score: 24.45639412549921\n",
      "solver: saga penalty: l1 tol: 4.794647132256015 Score: 24.45639412549921\n",
      "solver: saga penalty: l1 tol: 7.095412513261494 Score: 24.45639412549921\n",
      "solver: saga penalty: l2 tol: 5.993308915320019 Score: 24.45639412549921\n",
      "solver: saga penalty: l2 tol: 7.191970698384022 Score: 24.45639412549921\n",
      "solver: saga penalty: l2 tol: 4.794647132256015 Score: 24.45639412549921\n",
      "solver: saga penalty: l2 tol: 7.095412513261494 Score: 24.45639412549921\n",
      "solver: saga penalty: none tol: 5.993308915320019 Score: 24.45639412549921\n",
      "solver: saga penalty: none tol: 7.191970698384022 Score: 24.45639412549921\n",
      "solver: saga penalty: none tol: 4.794647132256015 Score: 24.45639412549921\n",
      "solver: saga penalty: none tol: 7.095412513261494 Score: 24.45639412549921\n",
      "0 10958.681610331734\n",
      "1 8855.276890567342\n",
      "2 8245.280017566885\n",
      "3 7742.702515650536\n",
      "4 6589.100628158302\n",
      "5 6601.954213933463\n",
      "6 6197.056778996721\n",
      "7 2408.26036282558\n",
      "8 -381.0434782608695\n",
      "9 -606.0\n",
      "10 -1641.0\n",
      "11 -1524.0\n",
      "12 -839.0\n",
      "13 -420.0\n",
      "14 775.0\n",
      "15 920.0\n",
      "16 648.0\n",
      "17 268.0\n",
      "18 733.0\n",
      "19 473.0\n",
      "20 313.0\n",
      "21 513.0\n",
      "22 513.0\n",
      "23 308.0\n",
      "24 508.0\n",
      "25 248.0\n",
      "26 0\n",
      "27 0\n",
      "28 0\n",
      "29 0\n",
      "30 0\n",
      "31 0\n",
      "32 0\n",
      "33 0\n",
      "34 0\n",
      "35 0\n",
      "36 0\n",
      "37 0\n",
      "38 0\n",
      "39 0\n",
      "40 0\n",
      "41 0\n",
      "42 0\n",
      "43 0\n",
      "44 0\n",
      "45 0\n",
      "46 0\n",
      "47 0\n",
      "48 0\n",
      "49 0\n",
      "50 0\n",
      "51 0\n",
      "52 0\n",
      "53 0\n",
      "54 0\n",
      "55 0\n",
      "56 0\n",
      "57 0\n",
      "58 0\n",
      "59 0\n",
      "60 0\n",
      "61 0\n",
      "62 0\n",
      "63 0\n",
      "64 0\n",
      "65 0\n",
      "66 0\n",
      "67 0\n",
      "68 0\n",
      "69 0\n",
      "70 0\n",
      "71 0\n",
      "72 0\n",
      "73 0\n",
      "74 0\n",
      "75 0\n",
      "76 0\n",
      "77 0\n",
      "78 0\n",
      "79 0\n",
      "80 0\n",
      "81 0\n",
      "82 0\n",
      "83 0\n",
      "84 0\n",
      "85 0\n",
      "86 0\n",
      "87 0\n",
      "88 0\n",
      "89 0\n",
      "90 0\n",
      "91 0\n",
      "92 0\n",
      "93 0\n",
      "94 0\n",
      "95 0\n",
      "96 0\n",
      "97 0\n",
      "98 0\n",
      "99 0\n",
      "100 0\n",
      "101 0\n",
      "102 0\n",
      "103 0\n",
      "104 0\n",
      "105 0\n",
      "106 0\n",
      "107 0\n",
      "108 0\n",
      "109 0\n",
      "110 0\n",
      "111 0\n",
      "112 0\n",
      "113 0\n",
      "114 0\n",
      "115 0\n",
      "116 0\n",
      "117 0\n",
      "118 0\n",
      "119 0\n",
      "120 0\n",
      "121 0\n",
      "122 0\n",
      "123 0\n",
      "124 0\n",
      "125 0\n",
      "126 0\n",
      "127 0\n",
      "128 0\n",
      "129 0\n",
      "130 0\n",
      "131 0\n",
      "132 0\n",
      "133 0\n",
      "134 0\n",
      "135 0\n",
      "136 0\n",
      "137 0\n",
      "138 0\n",
      "139 0\n",
      "140 0\n",
      "141 0\n",
      "142 0\n",
      "143 0\n",
      "144 0\n",
      "145 0\n",
      "146 0\n",
      "147 0\n",
      "148 0\n",
      "149 0\n",
      "150 0\n",
      "151 0\n",
      "152 0\n",
      "153 0\n",
      "154 0\n",
      "155 0\n",
      "156 0\n",
      "157 0\n",
      "158 0\n",
      "159 0\n",
      "160 0\n",
      "161 0\n",
      "162 0\n",
      "163 0\n",
      "164 0\n",
      "165 0\n",
      "166 0\n",
      "167 0\n",
      "168 0\n",
      "169 0\n",
      "170 0\n",
      "171 0\n",
      "172 0\n",
      "173 0\n",
      "174 0\n",
      "175 0\n",
      "176 0\n",
      "177 0\n",
      "178 0\n",
      "179 0\n",
      "180 0\n",
      "181 0\n",
      "182 0\n",
      "183 0\n",
      "184 0\n",
      "185 0\n",
      "186 0\n",
      "187 0\n",
      "188 0\n",
      "189 0\n",
      "190 0\n",
      "191 0\n",
      "192 0\n",
      "193 0\n",
      "194 0\n",
      "195 0\n",
      "196 0\n",
      "197 0\n",
      "198 0\n",
      "199 0\n",
      "The original score is 10958.681610331734\n",
      "Score:  10775.624339733482\n",
      "Score:  10445.455586060878\n",
      "Score:  10435.685795296331\n",
      "Score:  10376.641641765002\n",
      "Score:  9797.447463976683\n",
      "Score:  9404.831848765916\n",
      "Score:  10247.122252727544\n",
      "Score:  9237.664504342629\n",
      "Score:  -5160.313633988413\n",
      "Score:  -15349.593642274769\n"
     ]
    }
   ],
   "source": [
    "keep_going = True\n",
    "while(keep_going):\n",
    "    #1. Set Features\n",
    "    #get_best_features(pos_features, m, df, cur_features, labels, odds, scale=False)\n",
    "    test_model_features = (get_best_features(my_pos_features, test_model, df_train, test_model_features, label_train, odds_train, True))\n",
    "\n",
    "    #2 Set hyperparameters\n",
    "    #def tune_hyperparameters(input_model, input_features, input_df, input_labels, odds_input):\n",
    "    test_model = tune_hyperparameters(test_model, test_model_features, df_train, label_train, odds_train)\n",
    "\n",
    "    #3. Set EV\n",
    "    #def tune_ev(input_model, input_features, input_df, input_labels, odds_input, verbose=False):\n",
    "    test_model_ev = tune_ev(test_model, test_model_features, df_train, label_train, odds_train, verbose=False)\n",
    "\n",
    "    #4. Remove Features\n",
    "    #def remove_to_improve(cur_features, m, df, labels, odds, scale=False, min_ev = 0):\n",
    "    test_model_features = remove_to_improve(test_model_features, test_model, df_train, label_train, odds_train, min_ev = test_model_ev)    \n",
    "    keep_going = False\n",
    "    if old_test_model != test_model:\n",
    "        print(\"The hyperparameters are different\")\n",
    "        print(\"OLD:\")\n",
    "        print(old_test_model)\n",
    "        print(\"NEW:\")\n",
    "        print(test_model)\n",
    "        keep_going = True\n",
    "        old_test_model = test_model\n",
    "    if old_test_model_features != test_model_features:\n",
    "        print(\"The features are different\")\n",
    "        print(\"OLD:\")\n",
    "        print(old_test_model_features)\n",
    "        print(\"NEW:\")\n",
    "        print(test_model_features)\n",
    "        keep_going = True\n",
    "        old_test_model_features = test_model_features\n",
    "    if old_test_model_ev != test_model_ev:\n",
    "        print(\"The EV is different\")\n",
    "        print(\"OLD:\")\n",
    "        print(old_test_model_ev)\n",
    "        print(\"NEW:\")\n",
    "        print(test_model_ev)\n",
    "        keep_going = True\n",
    "        old_test_model_ev = test_model_ev\n",
    "        \n",
    "    "
   ]
  },
  {
   "cell_type": "code",
   "execution_count": 11,
   "metadata": {},
   "outputs": [
    {
     "data": {
      "text/plain": [
       "(4023, 10)"
      ]
     },
     "metadata": {},
     "output_type": "display_data"
    },
    {
     "data": {
      "text/plain": [
       "(4023,)"
      ]
     },
     "metadata": {},
     "output_type": "display_data"
    },
    {
     "data": {
      "text/plain": [
       "(4023, 2)"
      ]
     },
     "metadata": {},
     "output_type": "display_data"
    },
    {
     "data": {
      "text/plain": [
       "(200, 10)"
      ]
     },
     "metadata": {},
     "output_type": "display_data"
    },
    {
     "data": {
      "text/plain": [
       "(200,)"
      ]
     },
     "metadata": {},
     "output_type": "display_data"
    },
    {
     "data": {
      "text/plain": [
       "(200, 2)"
      ]
     },
     "metadata": {},
     "output_type": "display_data"
    },
    {
     "data": {
      "text/html": [
       "<div>\n",
       "<style scoped>\n",
       "    .dataframe tbody tr th:only-of-type {\n",
       "        vertical-align: middle;\n",
       "    }\n",
       "\n",
       "    .dataframe tbody tr th {\n",
       "        vertical-align: top;\n",
       "    }\n",
       "\n",
       "    .dataframe thead th {\n",
       "        text-align: right;\n",
       "    }\n",
       "</style>\n",
       "<table border=\"1\" class=\"dataframe\">\n",
       "  <thead>\n",
       "    <tr style=\"text-align: right;\">\n",
       "      <th></th>\n",
       "      <th>t1_odds</th>\n",
       "      <th>t2_odds</th>\n",
       "      <th>t1_prob</th>\n",
       "      <th>t2_prob</th>\n",
       "      <th>winner</th>\n",
       "    </tr>\n",
       "  </thead>\n",
       "  <tbody>\n",
       "    <tr>\n",
       "      <th>0</th>\n",
       "      <td>-600.0</td>\n",
       "      <td>450.0</td>\n",
       "      <td>0.864661</td>\n",
       "      <td>0.135339</td>\n",
       "      <td>0</td>\n",
       "    </tr>\n",
       "    <tr>\n",
       "      <th>1</th>\n",
       "      <td>120.0</td>\n",
       "      <td>-140.0</td>\n",
       "      <td>0.454314</td>\n",
       "      <td>0.545686</td>\n",
       "      <td>1</td>\n",
       "    </tr>\n",
       "    <tr>\n",
       "      <th>2</th>\n",
       "      <td>-115.0</td>\n",
       "      <td>-105.0</td>\n",
       "      <td>0.504325</td>\n",
       "      <td>0.495675</td>\n",
       "      <td>0</td>\n",
       "    </tr>\n",
       "    <tr>\n",
       "      <th>3</th>\n",
       "      <td>-135.0</td>\n",
       "      <td>115.0</td>\n",
       "      <td>0.549642</td>\n",
       "      <td>0.450358</td>\n",
       "      <td>0</td>\n",
       "    </tr>\n",
       "    <tr>\n",
       "      <th>4</th>\n",
       "      <td>400.0</td>\n",
       "      <td>-500.0</td>\n",
       "      <td>0.169111</td>\n",
       "      <td>0.830889</td>\n",
       "      <td>1</td>\n",
       "    </tr>\n",
       "    <tr>\n",
       "      <th>...</th>\n",
       "      <td>...</td>\n",
       "      <td>...</td>\n",
       "      <td>...</td>\n",
       "      <td>...</td>\n",
       "      <td>...</td>\n",
       "    </tr>\n",
       "    <tr>\n",
       "      <th>195</th>\n",
       "      <td>-550.0</td>\n",
       "      <td>425.0</td>\n",
       "      <td>0.857653</td>\n",
       "      <td>0.142347</td>\n",
       "      <td>0</td>\n",
       "    </tr>\n",
       "    <tr>\n",
       "      <th>196</th>\n",
       "      <td>-105.0</td>\n",
       "      <td>-115.0</td>\n",
       "      <td>0.499599</td>\n",
       "      <td>0.500401</td>\n",
       "      <td>0</td>\n",
       "    </tr>\n",
       "    <tr>\n",
       "      <th>197</th>\n",
       "      <td>-460.0</td>\n",
       "      <td>365.0</td>\n",
       "      <td>0.806373</td>\n",
       "      <td>0.193627</td>\n",
       "      <td>0</td>\n",
       "    </tr>\n",
       "    <tr>\n",
       "      <th>198</th>\n",
       "      <td>-920.0</td>\n",
       "      <td>610.0</td>\n",
       "      <td>0.926645</td>\n",
       "      <td>0.073355</td>\n",
       "      <td>0</td>\n",
       "    </tr>\n",
       "    <tr>\n",
       "      <th>199</th>\n",
       "      <td>-240.0</td>\n",
       "      <td>200.0</td>\n",
       "      <td>0.671330</td>\n",
       "      <td>0.328670</td>\n",
       "      <td>1</td>\n",
       "    </tr>\n",
       "  </tbody>\n",
       "</table>\n",
       "<p>200 rows × 5 columns</p>\n",
       "</div>"
      ],
      "text/plain": [
       "     t1_odds  t2_odds   t1_prob   t2_prob  winner\n",
       "0     -600.0    450.0  0.864661  0.135339       0\n",
       "1      120.0   -140.0  0.454314  0.545686       1\n",
       "2     -115.0   -105.0  0.504325  0.495675       0\n",
       "3     -135.0    115.0  0.549642  0.450358       0\n",
       "4      400.0   -500.0  0.169111  0.830889       1\n",
       "..       ...      ...       ...       ...     ...\n",
       "195   -550.0    425.0  0.857653  0.142347       0\n",
       "196   -105.0   -115.0  0.499599  0.500401       0\n",
       "197   -460.0    365.0  0.806373  0.193627       0\n",
       "198   -920.0    610.0  0.926645  0.073355       0\n",
       "199   -240.0    200.0  0.671330  0.328670       1\n",
       "\n",
       "[200 rows x 5 columns]"
      ]
     },
     "metadata": {},
     "output_type": "display_data"
    },
    {
     "name": "stdout",
     "output_type": "stream",
     "text": [
      "\n",
      "          Number of matches: 200\n",
      "          Number of bets: 91\n",
      "          Number of winning bets: 53\n",
      "          Number of losing bets: 38\n",
      "          Number of underdog bets: 66\n",
      "          Number of underdog wins: 33\n",
      "          Number of underdog losses: 33\n",
      "          Number of Favorite bets: 24\n",
      "          Number of favorite wins: 19\n",
      "          Number of favorite losses: 5\n",
      "          Number of even bets: 1\n",
      "          Number of even wins: 1\n",
      "          Number of even losses: 0\n",
      "          Profit: 1323.8875861704942\n",
      "          Profit per bet: 14.548215232642793\n",
      "          Profit per match: 6.619437930852471\n",
      "          \n",
      "          \n"
     ]
    }
   ],
   "source": [
    "#Get new score:\n",
    "#def evaluate_model(input_model, input_features, input_ev, train_df, train_labels, train_odds, test_df, test_labels, test_odds, verbose=True):\n",
    "score = evaluate_model(test_model, test_model_features, test_model_ev, df_train, label_train, odds_train, df_test, label_test,\n",
    "                         odds_test, verbose = True)"
   ]
  },
  {
   "cell_type": "code",
   "execution_count": 12,
   "metadata": {},
   "outputs": [
    {
     "data": {
      "text/plain": [
       "1323.8875861704942"
      ]
     },
     "execution_count": 12,
     "metadata": {},
     "output_type": "execute_result"
    }
   ],
   "source": [
    "score"
   ]
  },
  {
   "cell_type": "code",
   "execution_count": 15,
   "metadata": {},
   "outputs": [
    {
     "data": {
      "text/plain": [
       "0"
      ]
     },
     "execution_count": 15,
     "metadata": {},
     "output_type": "execute_result"
    }
   ],
   "source": [
    "test_model_ev"
   ]
  },
  {
   "cell_type": "code",
   "execution_count": 16,
   "metadata": {},
   "outputs": [
    {
     "name": "stdout",
     "output_type": "stream",
     "text": [
      "model_1\n",
      "model_1\n",
      "\n",
      "LogisticRegression(C=1.0, class_weight=None, dual=False, fit_intercept=True,\n",
      "                   intercept_scaling=1, l1_ratio=None, max_iter=50000,\n",
      "                   multi_class='auto', n_jobs=None, penalty='l2',\n",
      "                   random_state=75, solver='lbfgs', tol=5.993308915320019,\n",
      "                   verbose=0, warm_start=False)\n",
      "LogisticRegression(C=1.0, class_weight=None, dual=False, fit_intercept=True,\n",
      "                   intercept_scaling=1, l1_ratio=None, max_iter=50000,\n",
      "                   multi_class='auto', n_jobs=None, penalty='l2',\n",
      "                   random_state=75, solver='lbfgs', tol=5.993308915320019,\n",
      "                   verbose=0, warm_start=False)\n",
      "\n",
      "['B_win_by_Decision_Majority', 'B_win_by_TKO_Doctor_Stoppage', 'R_win_by_Decision_Majority', 'R_odds', 'R_current_lose_streak', 'R_Reach_cms', 'B_draw', 'total_round_dif', 'R_ev', 'B_ev']\n",
      "['B_win_by_Decision_Majority', 'B_win_by_TKO_Doctor_Stoppage', 'R_win_by_Decision_Majority', 'R_odds', 'R_current_lose_streak', 'R_Reach_cms', 'B_draw', 'total_round_dif', 'R_ev', 'B_ev']\n",
      "\n",
      "0\n",
      "0\n"
     ]
    }
   ],
   "source": [
    "print(test_model_name) \n",
    "print(models[0][1])\n",
    "print()\n",
    "print(test_model)\n",
    "print(eval(models[1][1]))\n",
    "print()\n",
    "print(test_model_features) \n",
    "print(eval(models[2][1]))\n",
    "print()\n",
    "print(test_model_ev)\n",
    "print(eval(models[3][1]))"
   ]
  },
  {
   "cell_type": "code",
   "execution_count": 17,
   "metadata": {},
   "outputs": [],
   "source": [
    "#models[0][0] =  test_model_name \n",
    "#models[1][0] = test_model\n",
    "#models[2][0] = test_model_features\n",
    "#models[3][0] = test_model_ev"
   ]
  },
  {
   "cell_type": "code",
   "execution_count": 18,
   "metadata": {},
   "outputs": [
    {
     "data": {
      "text/plain": [
       "[['model_1', 'model_2', 'model_3', 'model_4', 'model_5', 'model_test'],\n",
       " [\"LogisticRegression(C=1.0, class_weight=None, dual=False, fit_intercept=True,\\n                   intercept_scaling=1, l1_ratio=None, max_iter=50000,\\n                   multi_class='auto', n_jobs=None, penalty='l2',\\n                   random_state=75, solver='lbfgs', tol=5.993308915320019,\\n                   verbose=0, warm_start=False)\",\n",
       "  \"DecisionTreeClassifier(ccp_alpha=0.0, class_weight=None, criterion='gini',\\n                       max_depth=None, max_features=None, max_leaf_nodes=None,\\n                       min_impurity_decrease=0.0, min_impurity_split=None,\\n                       min_samples_leaf=1, min_samples_split=2,\\n                       min_weight_fraction_leaf=0.0, presort='deprecated',\\n                       random_state=75, splitter='best')\",\n",
       "  \"RandomForestClassifier(bootstrap=True, ccp_alpha=0.0, class_weight=None,\\n                       criterion='gini', max_depth=None, max_features='auto',\\n                       max_leaf_nodes=None, max_samples=None,\\n                       min_impurity_decrease=0.0, min_impurity_split=None,\\n                       min_samples_leaf=1, min_samples_split=2,\\n                       min_weight_fraction_leaf=0.0, n_estimators=98, n_jobs=-1,\\n                       oob_score=False, random_state=75, verbose=0,\\n                       warm_start=False)\",\n",
       "  \"GradientBoostingClassifier(ccp_alpha=0.0, criterion='friedman_mse', init=None,\\n                           learning_rate=0.1, loss='deviance', max_depth=3,\\n                           max_features=None, max_leaf_nodes=None,\\n                           min_impurity_decrease=0.0, min_impurity_split=None,\\n                           min_samples_leaf=1, min_samples_split=2,\\n                           min_weight_fraction_leaf=0.0, n_estimators=99,\\n                           n_iter_no_change=None, presort='deprecated',\\n                           random_state=75, subsample=1.0, tol=0.0001,\\n                           validation_fraction=0.1, verbose=0,\\n                           warm_start=False)\",\n",
       "  'GaussianNB(priors=None, var_smoothing=1e-09)',\n",
       "  \"LogisticRegression(C=1.0, class_weight=None, dual=False, fit_intercept=True,\\n                   intercept_scaling=1, l1_ratio=None, max_iter=50000,\\n                   multi_class='auto', n_jobs=None, penalty='l2',\\n                   random_state=75, solver='lbfgs', tol=5.993308915320019,\\n                   verbose=0, warm_start=False)\"],\n",
       " [\"['B_win_by_Decision_Majority', 'B_win_by_TKO_Doctor_Stoppage', 'R_win_by_Decision_Majority', 'R_odds', 'R_current_lose_streak', 'R_Reach_cms', 'B_draw', 'total_round_dif', 'R_ev', 'B_ev']\",\n",
       "  \"['B_fighter', 'B_avg_TD_pct']\",\n",
       "  \"['B_current_lose_streak', 'B_total_title_bouts', 'B_fighter']\",\n",
       "  \"['B_total_rounds_fought', 'location', 'R_odds']\",\n",
       "  \"['avg_td_dif', 'R_win_by_Decision_Split', 'age_dif', 'B_current_win_streak', 'R_odds']\",\n",
       "  \"['total_round_dif', 'R_ev', 'B_ev']\"],\n",
       " ['0', '25', '2', '0', '0', '0'],\n",
       " ['1288', '-181', '177', '2436', '914', '1288']]"
      ]
     },
     "execution_count": 18,
     "metadata": {},
     "output_type": "execute_result"
    }
   ],
   "source": [
    "models"
   ]
  },
  {
   "cell_type": "code",
   "execution_count": 19,
   "metadata": {},
   "outputs": [
    {
     "name": "stdout",
     "output_type": "stream",
     "text": [
      "HI\n",
      "HI\n",
      "HI\n",
      "HI\n",
      "HI\n"
     ]
    }
   ],
   "source": [
    "with open('models.csv', 'w', newline='') as outfile:\n",
    "    writer = csv.writer(outfile)\n",
    "    for row in models:\n",
    "        print(\"HI\")\n",
    "        writer.writerow(row)\n",
    "    \n",
    "outfile.close()"
   ]
  },
  {
   "cell_type": "code",
   "execution_count": 20,
   "metadata": {},
   "outputs": [
    {
     "name": "stdout",
     "output_type": "stream",
     "text": [
      "5\n"
     ]
    }
   ],
   "source": [
    "with open('models.csv', newline='') as f:\n",
    "    reader = csv.reader(f)\n",
    "    data = list(reader)\n",
    "    \n",
    "print(len(data))"
   ]
  },
  {
   "cell_type": "code",
   "execution_count": 21,
   "metadata": {},
   "outputs": [
    {
     "data": {
      "text/plain": [
       "[['model_1', 'model_2', 'model_3', 'model_4', 'model_5', 'model_test'],\n",
       " [\"LogisticRegression(C=1.0, class_weight=None, dual=False, fit_intercept=True,\\n                   intercept_scaling=1, l1_ratio=None, max_iter=50000,\\n                   multi_class='auto', n_jobs=None, penalty='l2',\\n                   random_state=75, solver='lbfgs', tol=5.993308915320019,\\n                   verbose=0, warm_start=False)\",\n",
       "  \"DecisionTreeClassifier(ccp_alpha=0.0, class_weight=None, criterion='gini',\\n                       max_depth=None, max_features=None, max_leaf_nodes=None,\\n                       min_impurity_decrease=0.0, min_impurity_split=None,\\n                       min_samples_leaf=1, min_samples_split=2,\\n                       min_weight_fraction_leaf=0.0, presort='deprecated',\\n                       random_state=75, splitter='best')\",\n",
       "  \"RandomForestClassifier(bootstrap=True, ccp_alpha=0.0, class_weight=None,\\n                       criterion='gini', max_depth=None, max_features='auto',\\n                       max_leaf_nodes=None, max_samples=None,\\n                       min_impurity_decrease=0.0, min_impurity_split=None,\\n                       min_samples_leaf=1, min_samples_split=2,\\n                       min_weight_fraction_leaf=0.0, n_estimators=98, n_jobs=-1,\\n                       oob_score=False, random_state=75, verbose=0,\\n                       warm_start=False)\",\n",
       "  \"GradientBoostingClassifier(ccp_alpha=0.0, criterion='friedman_mse', init=None,\\n                           learning_rate=0.1, loss='deviance', max_depth=3,\\n                           max_features=None, max_leaf_nodes=None,\\n                           min_impurity_decrease=0.0, min_impurity_split=None,\\n                           min_samples_leaf=1, min_samples_split=2,\\n                           min_weight_fraction_leaf=0.0, n_estimators=99,\\n                           n_iter_no_change=None, presort='deprecated',\\n                           random_state=75, subsample=1.0, tol=0.0001,\\n                           validation_fraction=0.1, verbose=0,\\n                           warm_start=False)\",\n",
       "  'GaussianNB(priors=None, var_smoothing=1e-09)',\n",
       "  \"LogisticRegression(C=1.0, class_weight=None, dual=False, fit_intercept=True,\\n                   intercept_scaling=1, l1_ratio=None, max_iter=50000,\\n                   multi_class='auto', n_jobs=None, penalty='l2',\\n                   random_state=75, solver='lbfgs', tol=5.993308915320019,\\n                   verbose=0, warm_start=False)\"],\n",
       " [\"['B_win_by_Decision_Majority', 'B_win_by_TKO_Doctor_Stoppage', 'R_win_by_Decision_Majority', 'R_odds', 'R_current_lose_streak', 'R_Reach_cms', 'B_draw', 'total_round_dif', 'R_ev', 'B_ev']\",\n",
       "  \"['B_fighter', 'B_avg_TD_pct']\",\n",
       "  \"['B_current_lose_streak', 'B_total_title_bouts', 'B_fighter']\",\n",
       "  \"['B_total_rounds_fought', 'location', 'R_odds']\",\n",
       "  \"['avg_td_dif', 'R_win_by_Decision_Split', 'age_dif', 'B_current_win_streak', 'R_odds']\",\n",
       "  \"['total_round_dif', 'R_ev', 'B_ev']\"],\n",
       " ['0', '25', '2', '0', '0', '0'],\n",
       " ['1288', '-181', '177', '2436', '914', '1288']]"
      ]
     },
     "execution_count": 21,
     "metadata": {},
     "output_type": "execute_result"
    }
   ],
   "source": [
    "data"
   ]
  },
  {
   "cell_type": "code",
   "execution_count": null,
   "metadata": {},
   "outputs": [],
   "source": []
  }
 ],
 "metadata": {
  "kernelspec": {
   "display_name": "Python 3",
   "language": "python",
   "name": "python3"
  },
  "language_info": {
   "codemirror_mode": {
    "name": "ipython",
    "version": 3
   },
   "file_extension": ".py",
   "mimetype": "text/x-python",
   "name": "python",
   "nbconvert_exporter": "python",
   "pygments_lexer": "ipython3",
   "version": "3.7.6"
  }
 },
 "nbformat": 4,
 "nbformat_minor": 4
}
